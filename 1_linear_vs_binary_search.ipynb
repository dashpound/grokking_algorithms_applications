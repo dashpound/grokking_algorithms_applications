{
 "cells": [
  {
   "cell_type": "markdown",
   "metadata": {},
   "source": [
    "# Comparing Linear Seach and Binary Search \n",
    "## MSDS-432 - Kiley - Week 1 Assignment\n",
    "### Assignment Overview\n",
    "The mini-programming assignment requires us to compare the computational performance of two searching algorithms as applied in Python.\n",
    "The two algorithms to be compared are **Simple Search** (called Linear Search) and **Binary Search**.\n",
    "\n",
    "The algorithms performance will be measured using Big O notation. <br>\n",
    "**Big O Notation** is a way to communicate the number of operations required to perform an algorithm in the worst-case scenario.  The number of operations is represented by n.\n",
    "For search algorithms, the worst-case scenario is when the requested value is in the last place the algorithm searches.  This requires that the algorithm view all of the data.\n",
    "\n",
    "From *Grokking Algorithms* we expect that **Simple Search** will have O(n) performance. <br>\n",
    "We expect **Binary Search** to have O(log n ) performance.\n",
    "\n",
    "This assignment is git controlled.  The repo was prepared using git bash.\n",
    "\n",
    "# Setting up working environment, define and test key functions\n",
    "The packages selected in \"In[1]\" are all the packages required for the subsequent operations. <br>\n",
    "They are named based on standard python naming conventions."
   ]
  },
  {
   "cell_type": "code",
   "execution_count": 1,
   "metadata": {},
   "outputs": [],
   "source": [
    "# Set up working environment\n",
    "import numpy as np\n",
    "import time\n",
    "import pandas as pd\n",
    "import matplotlib.pyplot as plt"
   ]
  },
  {
   "cell_type": "markdown",
   "metadata": {},
   "source": [
    "**Linear Search** leverages code adapted from stack overflow with slight modifications.\n",
    "https://stackoverflow.com/questions/43302810/linear-search-python <br>\n",
    "The code was adapted to follow the same testing pattern used in the Binary Search function.<br>\n",
    "We will define it as a function so that it may be applied to multiple arrays consistently and quickly.\n",
    "\n",
    "**Linear Search** (called Simple Search in *Grokking Algorithms*) is an alogorithm that operates in O(n) time.  <br>\n",
    "A linear search operates by checking requested value against every item in the list serially, begining with the first item in the list.\n",
    "\n",
    "Note: This alogirthm does not require a pre-sort to be effective as it will search until it finds the value or exhausts the list.  However, to ensure that we can test a worst-case scenario we will sort prior to running the tests."
   ]
  },
  {
   "cell_type": "code",
   "execution_count": 2,
   "metadata": {},
   "outputs": [],
   "source": [
    "# Define Linear Search\n",
    "def linear_search(list, item):\n",
    "    found = None\n",
    "    position = 0\n",
    "    while position < len(list) and not found:\n",
    "        if list[position] == item:\n",
    "            found = position\n",
    "        position = position + 1\n",
    "    return found"
   ]
  },
  {
   "cell_type": "code",
   "execution_count": 3,
   "metadata": {},
   "outputs": [
    {
     "name": "stdout",
     "output_type": "stream",
     "text": [
      "1\n",
      "None\n"
     ]
    }
   ],
   "source": [
    "# Check that linear search works\n",
    "my_list = [1, 3, 5, 7, 9]\n",
    "print(linear_search(my_list, 3)) # => 1\n",
    "\n",
    "# 'None' means nil in Python. We use to indicate that the item wasn't found.\n",
    "print(linear_search(my_list, -1)) # => None"
   ]
  },
  {
   "cell_type": "markdown",
   "metadata": {},
   "source": [
    "**Results of the test: The algorithm works as expected. <br>\n",
    "Linear search returned the correct locations of the requested values.**\n",
    "<br>\n",
    "<br>\n",
    "<br>\n",
    "**Binary Search** leverages code from *Grokking Algorithms*; the code was sourced from github.\n",
    "https://github.com/egonSchiele/grokking_algorithms/blob/master/01_introduction_to_algorithms/python/01_binary_search.py\n",
    "We will define it as a function so that it may be applied to multiple arrays consistently and quickly.\n",
    "\n",
    "**Binary search** is an alogrithm that operates in O(log n) time. <br>\n",
    "A binary search requires that the values of the list be sorted prior to running the algorithm.\n",
    "The algorithm recursively finds the mid-point of the sorted dataset and determines if the value is to the left of, or right of the mid-point (less than or greater than).  \n",
    "The algorithm effectively eliminates the half of the data that is no longer needed at each iteration until it finds the requested value. \n",
    "\n",
    "Because it can eliminate substanial portions of the data at each step, the data is significantly more efficent and scales much better than Linear Search."
   ]
  },
  {
   "cell_type": "code",
   "execution_count": 4,
   "metadata": {},
   "outputs": [],
   "source": [
    "# Define binary search\n",
    "def binary_search(list, item):\n",
    "  # low and high keep track of which part of the list you'll search in.\n",
    "  low = 0\n",
    "  high = len(list) - 1\n",
    "\n",
    "  # While you haven't narrowed it down to one element ...\n",
    "  while low <= high:\n",
    "    # ... check the middle element\n",
    "    mid = (low + high) // 2\n",
    "    guess = list[mid]\n",
    "    # Found the item.\n",
    "    if guess == item:\n",
    "      return mid\n",
    "    # The guess was too high.\n",
    "    if guess > item:\n",
    "      high = mid - 1\n",
    "    # The guess was too low.\n",
    "    else:\n",
    "      low = mid + 1\n",
    "\n",
    "  # Item doesn't exist\n",
    "  return None"
   ]
  },
  {
   "cell_type": "code",
   "execution_count": 5,
   "metadata": {},
   "outputs": [
    {
     "name": "stdout",
     "output_type": "stream",
     "text": [
      "1\n",
      "None\n"
     ]
    }
   ],
   "source": [
    "# Check that binary serach works\n",
    "my_list = [1, 3, 5, 7, 9]\n",
    "print(binary_search(my_list, 3)) # => 1\n",
    "\n",
    "# 'None' means nil in Python. We use to indicate that the item wasn't found.\n",
    "print(binary_search(my_list, -1)) # => None"
   ]
  },
  {
   "cell_type": "markdown",
   "metadata": {},
   "source": [
    "**Results of the test: The algorithm works as expected. <br>\n",
    "Binary search returned the correct locations of the requested values.**\n",
    "<br>\n",
    "<br>\n",
    "<br>\n",
    "The assignment has asked that the algorithms be tested at various sizes of generated data.  \n",
    "To ensure that the same tests are performed on each data set, a function will be generated to capture the requested tests. \n",
    "\n",
    "The requested output are:\n",
    "* Number of values in the dataset\n",
    "* Time (in milliseconds) to sort the dataset\n",
    "* Time (in milliseconds) to run Linear Search\n",
    "* Time (in milliseconds) to run Binary Search\n",
    "* Time (in milliseconds) to sort the dataset & run Linear Search\n",
    "* Time (in milliseconds) to sort the dataset & run Binary Search\n",
    "\n",
    "These output will be put into a pandas dataframe called \"df\". \n",
    "\n",
    "Because the sort method was not specificed in the requirements, it has been assumed that quicksort is acceptable.  Quicksort operates in O(n^2) time per the official numpy documentation. <br>\n",
    "https://docs.scipy.org/doc/numpy-1.15.1/reference/generated/numpy.sort.html\n"
   ]
  },
  {
   "cell_type": "code",
   "execution_count": 6,
   "metadata": {},
   "outputs": [],
   "source": [
    "def gen_array(array): \n",
    "    \n",
    "    # Return the length of the array\n",
    "    size = len(array)\n",
    "    \n",
    "    # Return the time to sort\n",
    "    start = time.time()\n",
    "    #numpy documentation says that the quicksort is an O(n^2) algorithm\n",
    "    sort_array = np.sort(array, kind='quicksort') \n",
    "    end = time.time()\n",
    "    sort_time = end-start\n",
    "    #Put in milliseconds\n",
    "    sort_time = (round(sort_time * 1000, 2))\n",
    "\n",
    "    # Return linear search time \n",
    "    start = time.time()\n",
    "    linear_search(sort_array, sort_array[-1])\n",
    "    end = time.time()\n",
    "    li_time = end-start\n",
    "    #Put in milliseconds\n",
    "    li_time = (round(li_time * 1000, 2))\n",
    "    \n",
    "    # Return binary search time\n",
    "    start = time.time()\n",
    "    binary_search(sort_array, sort_array[-1])\n",
    "    end = time.time()\n",
    "    bi_time = end-start\n",
    "    #Put in milliseconds\n",
    "    bi_time = (round(bi_time * 1000, 2))\n",
    "    \n",
    "    # Linear Search + Sort time  \n",
    "    start = time.time()\n",
    "    sort_array = np.sort(array, kind='quicksort')\n",
    "    linear_search(sort_array, sort_array[-1])\n",
    "    end = time.time()\n",
    "    sort_li_time = end-start\n",
    "    #Put in milliseconds\n",
    "    sort_li_time = (round(sort_li_time * 1000, 2))\n",
    "    \n",
    "    # Binary Search + Sort time\n",
    "    start = time.time()\n",
    "    sort_array = np.sort(array, kind='quicksort')\n",
    "    binary_search(sort_array, sort_array[-1])\n",
    "    end = time.time()\n",
    "    sort_bi_time = end-start \n",
    "    #Put in milliseconds\n",
    "    sort_bi_time = (round(sort_bi_time * 1000, 2))\n",
    "    \n",
    "    return [size, sort_time, li_time, bi_time, sort_li_time, sort_bi_time]"
   ]
  },
  {
   "cell_type": "markdown",
   "metadata": {},
   "source": [
    "A helper function called check_array has been written to test that the arrays were generated properly and view the first five values of each array."
   ]
  },
  {
   "cell_type": "code",
   "execution_count": 7,
   "metadata": {},
   "outputs": [],
   "source": [
    "# Print array\n",
    "# Check the first five values\n",
    "def check_array(array): \n",
    "    print('-----------------------------')\n",
    "    print('Checks for select array are:')\n",
    "    print('The len of the array is:', len(array))\n",
    "    print('First five values')\n",
    "    print(array[:5])\n",
    "    print('-----------------------------')"
   ]
  },
  {
   "cell_type": "markdown",
   "metadata": {},
   "source": [
    "# Generate And Test Random Data Arrays\n",
    "The random seed generator provided in the project requirements returned the value 922.<br>\n",
    "Leveraging a seed as such creates reproducable work.<br>\n",
    "That seed has been set below.\n",
    "\n",
    "Per the requirements, using a random number generator with a uniform probabilty of each value occuring, generate five arrays of varying lengths.  The varying lengths double in scale.\n",
    "\n",
    "The requested lengths are:\n",
    "* 512 \n",
    "* 1024\n",
    "* 2048\n",
    "* 4096\n",
    "* 8192\n",
    "\n",
    "The interval for the data was not specified.  I've assumed 0 - 10,000 was acceptable."
   ]
  },
  {
   "cell_type": "code",
   "execution_count": 8,
   "metadata": {},
   "outputs": [
    {
     "name": "stdout",
     "output_type": "stream",
     "text": [
      "-----------------------------\n",
      "Checks for select array are:\n",
      "The len of the array is: 512\n",
      "First five values\n",
      "[3595.22152553 2950.22388412 8993.69451391 5206.37516979  267.97868496]\n",
      "-----------------------------\n",
      "-----------------------------\n",
      "Checks for select array are:\n",
      "The len of the array is: 1024\n",
      "First five values\n",
      "[3886.78495089 1560.97721764 6525.63340713 6317.13063562 6525.15562145]\n",
      "-----------------------------\n",
      "-----------------------------\n",
      "Checks for select array are:\n",
      "The len of the array is: 2048\n",
      "First five values\n",
      "[ 646.90502329 1144.83686607 9942.94854644 8161.21039974 8962.59563203]\n",
      "-----------------------------\n",
      "-----------------------------\n",
      "Checks for select array are:\n",
      "The len of the array is: 4096\n",
      "First five values\n",
      "[8139.7056742  5083.96823266 4477.25535296 2797.16693097 4012.08060838]\n",
      "-----------------------------\n",
      "-----------------------------\n",
      "Checks for select array are:\n",
      "The len of the array is: 8192\n",
      "First five values\n",
      "[4373.11291281 7840.71716047 6298.53751279 9992.89116466 1108.4397995 ]\n",
      "-----------------------------\n"
     ]
    }
   ],
   "source": [
    "# Set Random Seeds\n",
    "SEED = np.random.seed(922)\n",
    "\n",
    "# Create array 1, 2, 3, 4, 5\n",
    "a1 = np.random.uniform(0,10000,512)\n",
    "a2 = np.random.uniform(0,10000,1024)\n",
    "a3 = np.random.uniform(0,10000,2048)\n",
    "a4 = np.random.uniform(0,10000,4096)\n",
    "a5 = np.random.uniform(0,10000,8192)\n",
    "\n",
    "# Check all five arrays\n",
    "check_array(a1)\n",
    "check_array(a2)\n",
    "check_array(a3)\n",
    "check_array(a4)\n",
    "check_array(a5)"
   ]
  },
  {
   "cell_type": "markdown",
   "metadata": {},
   "source": [
    "The first five values are unsorted, as expected.  Running the code multiple times produces the same output, meaning that the random seed is functioning correctly.\n",
    "\n",
    "The data has been successfully generated.\n",
    "\n",
    "# Run Trials and Create Pandas Data Frame\n",
    "\n",
    "Most of the work has been completed, this next step passes the generated data to the gen_array function defined previously.  The arrays are then summarized into a pandas data frame for further analysis. "
   ]
  },
  {
   "cell_type": "code",
   "execution_count": 9,
   "metadata": {},
   "outputs": [
    {
     "name": "stdout",
     "output_type": "stream",
     "text": [
      "    len  sort_time  linear_time  binary_time  lin_sort_time  bin_sort_time\n",
      "0   512        0.0         0.00          0.0           0.00            0.0\n",
      "1  1024        0.0         1.01          0.0           0.00            0.0\n",
      "2  2048        0.0         0.99          0.0           1.00            0.0\n",
      "3  4096        0.0         1.00          0.0           1.99            1.0\n",
      "4  8192        0.0         2.99          0.0           2.99            0.0\n"
     ]
    }
   ],
   "source": [
    "# Run Trials\n",
    "trial1 = gen_array(a1)\n",
    "trial2 = gen_array(a2)\n",
    "trial3 = gen_array(a3)\n",
    "trial4 = gen_array(a4)\n",
    "trial5 = gen_array(a5)\n",
    "\n",
    "# Create pandas dataframe of trials\n",
    "df = pd.DataFrame([trial1, trial2, trial3, trial4, trial5], \n",
    "                  columns=['len', 'sort_time', 'linear_time', 'binary_time',\n",
    "                           'lin_sort_time', 'bin_sort_time'])\n",
    "\n",
    "# Print pandas dataframe of trials\n",
    "print(df)"
   ]
  },
  {
   "cell_type": "markdown",
   "metadata": {},
   "source": [
    "Perhaps unfortunately, the computer is able to churn through these problems extremely quickly.  So quickly infact that binary time hardly registers on the scale (which is in milliseconds).  If we were to continue the pattern of the size of the data continuously doubling (which, as the program has been designed would be an easy implementation), we would see even more pronounced results in the differences between the algorithms.\n",
    "\n",
    "The resulting data frame produces results that are consistent with our expectations.\n",
    "The slowest algorithm is the linear search and sort time.  From the linear search and sort algorithm's change in results from index 3 to 4 (length 4096 to length 8192) we can see that the time to execute doubles as the dataset doubles.  Effectively demonstrating O(n) for linear sort.\n",
    "\n",
    "\n",
    "# Visualize Results"
   ]
  },
  {
   "cell_type": "code",
   "execution_count": 10,
   "metadata": {},
   "outputs": [
    {
     "data": {
      "image/png": "[encoded data removed]",
      "text/plain": [
       "<Figure size 432x288 with 1 Axes>"
      ]
     },
     "metadata": {
      "needs_background": "light"
     },
     "output_type": "display_data"
    }
   ],
   "source": [
    "# Create plot of time versus complexity of array\n",
    "\n",
    "# Plot Binary Time\n",
    "plt.plot(df['len'], df['binary_time'], 'ro')\n",
    "\n",
    "# Plot Linear Time\n",
    "plt.plot(df['len'], df['linear_time'], 'bo')\n",
    "\n",
    "# Label Graph\n",
    "plt.ylabel('Time in Milliseconds')\n",
    "plt.xlabel('Size of Array')\n",
    "plt.title('Linear vs. Binary Search Time')\n",
    "\n",
    "#Create Legend and define axes\n",
    "plt.legend()\n",
    "plt.axis([0, 10000, -1, 10])\n",
    "plt.show()"
   ]
  },
  {
   "cell_type": "markdown",
   "metadata": {},
   "source": [
    "Simple visualization demonstrates how much more effective binary search is compared to linear search.  Binary search is almost uneffected by the increase in the size of the array."
   ]
  },
  {
   "cell_type": "code",
   "execution_count": 11,
   "metadata": {},
   "outputs": [
    {
     "data": {
      "image/png": "[encoded data removed]",
      "text/plain": [
       "<Figure size 432x288 with 1 Axes>"
      ]
     },
     "metadata": {
      "needs_background": "light"
     },
     "output_type": "display_data"
    }
   ],
   "source": [
    "# Create plot of time versus complexity of array\n",
    "\n",
    "# Plot Binary Time\n",
    "plt.plot(df['len'], df['binary_time'], 'ro')\n",
    "\n",
    "# Plot Linear Time\n",
    "plt.plot(df['len'], df['linear_time'], 'bo')\n",
    "\n",
    "# Plot Sort Time\n",
    "plt.plot(df['len'], df['sort_time'], 'gs')\n",
    "\n",
    "# Plot binary + Sort Time\n",
    "plt.plot(df['len'], df['bin_sort_time'], 'mD')\n",
    "\n",
    "# Plot binary + Sort Time\n",
    "plt.plot(df['len'], df['lin_sort_time'], 'y*')\n",
    "\n",
    "# Label Graph\n",
    "plt.ylabel('Time in Milliseconds')\n",
    "plt.xlabel('Size of Array')\n",
    "plt.title('Time for all tests')\n",
    "\n",
    "#Create Legend and define axes\n",
    "plt.legend()\n",
    "plt.axis([0, 10000, -1, 10])\n",
    "plt.show()"
   ]
  },
  {
   "cell_type": "markdown",
   "metadata": {},
   "source": [
    "The resulting graphic for all tests performed as part of this assigment.  \n",
    "The quickest and best perfomance was from binary search.  Even when you have to incorporate an additional step (sort) the perfomance is signifcatnly better than linear and will scale as the data grows.  Data engineers are required to consider how to ensure that an operation can perform effectively at scale.  Beyond the lesson that the algorithm is a more effective form of searching, it is the exercise and the discipline of understanding Big O notation that will enable data engineers to be more effective."
   ]
  }
 ],
 "metadata": {
  "kernelspec": {
   "display_name": "Python 3",
   "language": "python",
   "name": "python3"
  },
  "language_info": {
   "codemirror_mode": {
    "name": "ipython",
    "version": 3
   },
   "file_extension": ".py",
   "mimetype": "text/x-python",
   "name": "python",
   "nbconvert_exporter": "python",
   "pygments_lexer": "ipython3",
   "version": "3.6.7"
  }
 },
 "nbformat": 4,
 "nbformat_minor": 2
}
