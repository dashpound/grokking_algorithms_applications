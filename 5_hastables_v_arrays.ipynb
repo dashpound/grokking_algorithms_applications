{
 "cells": [
  {
   "cell_type": "markdown",
   "metadata": {},
   "source": [
    "# Hash Tables\n",
    "## MSDS-432 - Kiley - Week 5 Assignment\n",
    "### Assignment Overview\n",
    "The mini-programming assignment requires us to implement and test the performance of hash tables leveraging python dictionaries.\n",
    "The assignment requires us to create a fictional data about persons, store it in various methods and to search for it using different algorithms. \n",
    "\n",
    "The output and the time required to search to be captured, reported, and analyzed.\n",
    "\n",
    "The array is to then be sorted and specific positions captured in a seperate array.\n",
    "\n",
    "* 10th\n",
    "* 30th\n",
    "* 50th\n",
    "* 70th\n",
    "* 90th\n",
    "* 100th\n",
    "\n",
    "Find these values using linear and binary search, and also use a hash table to search. \n",
    "\n",
    "The output and the time required to search to be captured, reported, and analyzed.\n",
    "\n",
    "The algorithm's performance will be measured using Big O notation. <br>\n",
    "**Big O Notation** is a way to communicate the number of operations required to perform an algorithm in the worst-case scenario.  The number of operations is represented by n.\n",
    "\n",
    "Found a wonderful reference site called http://bigocheatsheet.com/.\n",
    "\n",
    "The sorts that have been selected for testing are:\n",
    "\n",
    "| Data Structure |Average Search |Worst Search   |\n",
    "|----------------|---------------|---------------|\n",
    "| Array          |O(n)           | O(n)          | \n",
    "| Hash Table     |O(1)           | O(n)          |\n",
    "\n",
    "\n",
    "This assignment is git controlled.  The repo was prepared using git bash.\n",
    "\n",
    "# Setting up working environment, define and test key functions\n",
    "The packages selected in \"In[1]\" are all the packages required for the subsequent operations. <br>\n",
    "They are named based on standard python naming conventions."
   ]
  },
  {
   "cell_type": "code",
   "execution_count": 1,
   "metadata": {},
   "outputs": [],
   "source": [
    "# Set up working environment\n",
    "import numpy as np\n",
    "import time\n",
    "import pandas as pd\n",
    "import matplotlib.pyplot as plt\n",
    "import random\n",
    "from random import randint\n",
    "import string\n",
    "\n",
    "from IPython.core.interactiveshell import InteractiveShell\n",
    "InteractiveShell.ast_node_interactivity = \"all\""
   ]
  },
  {
   "cell_type": "markdown",
   "metadata": {},
   "source": [
    "**Linear Search** leverages code adapted from stack overflow with slight modifications.\n",
    "https://stackoverflow.com/questions/43302810/linear-search-python <br>\n",
    "The code was adapted to follow the same testing pattern used in the Binary Search function.<br>\n",
    "We will define it as a function so that it may be applied to multiple arrays consistently and quickly.\n",
    "\n",
    "**Linear Search** (called Simple Search in *Grokking Algorithms*) is an alogorithm that operates in O(n) time.  <br>\n",
    "A linear search operates by checking requested value against every item in the list serially, begining with the first item in the list.\n",
    "\n",
    "Note: This alogirthm does not require a pre-sort to be effective as it will search until it finds the value or exhausts the list.  However, to ensure that we can test a worst-case scenario we will sort prior to running the tests."
   ]
  },
  {
   "cell_type": "code",
   "execution_count": 2,
   "metadata": {},
   "outputs": [
    {
     "name": "stdout",
     "output_type": "stream",
     "text": [
      "1\n",
      "None\n"
     ]
    }
   ],
   "source": [
    "# Define Linear Search\n",
    "def linear_search(list, item):\n",
    "    found = None\n",
    "    position = 0\n",
    "    while position < len(list) and not found:\n",
    "        if list[position] == item:\n",
    "            found = position\n",
    "        position = position + 1\n",
    "    return found\n",
    "\n",
    "# Check that linear search works\n",
    "my_list = [1, 3, 5, 7, 9]\n",
    "print(linear_search(my_list, 3)) # => 1\n",
    "\n",
    "# 'None' means nil in Python. We use to indicate that the item wasn't found.\n",
    "print(linear_search(my_list, -1)) # => None"
   ]
  },
  {
   "cell_type": "markdown",
   "metadata": {},
   "source": [
    "**Results of the test: The algorithm works as expected. <br>\n",
    "Linear search returned the correct locations of the requested values.**\n",
    "<br>\n",
    "<br>\n",
    "<br>\n",
    "**Binary Search** leverages code from *Grokking Algorithms*; the code was sourced from github.\n",
    "https://github.com/egonSchiele/grokking_algorithms/blob/master/01_introduction_to_algorithms/python/01_binary_search.py\n",
    "We will define it as a function so that it may be applied to multiple arrays consistently and quickly.\n",
    "\n",
    "**Binary search** is an alogrithm that operates in O(log n) time. <br>\n",
    "A binary search requires that the values of the list be sorted prior to running the algorithm.\n",
    "The algorithm recursively finds the mid-point of the sorted dataset and determines if the value is to the left of, or right of the mid-point (less than or greater than).  \n",
    "The algorithm effectively eliminates the half of the data that is no longer needed at each iteration until it finds the requested value. \n",
    "\n",
    "Because it can eliminate substanial portions of the data at each step, the data is significantly more efficent and scales much better than Linear Search."
   ]
  },
  {
   "cell_type": "code",
   "execution_count": 3,
   "metadata": {},
   "outputs": [
    {
     "name": "stdout",
     "output_type": "stream",
     "text": [
      "1\n",
      "None\n"
     ]
    }
   ],
   "source": [
    "# Define binary search\n",
    "def binary_search(list, item):\n",
    "  # low and high keep track of which part of the list you'll search in.\n",
    "  low = 0\n",
    "  high = len(list) - 1\n",
    "\n",
    "  # While you haven't narrowed it down to one element ...\n",
    "  while low <= high:\n",
    "    # ... check the middle element\n",
    "    mid = (low + high) // 2\n",
    "    guess = list[mid]\n",
    "    # Found the item.\n",
    "    if guess == item:\n",
    "      return mid\n",
    "    # The guess was too high.\n",
    "    if guess > item:\n",
    "      high = mid - 1\n",
    "    # The guess was too low.\n",
    "    else:\n",
    "      low = mid + 1\n",
    "\n",
    "  # Item doesn't exist\n",
    "  return None\n",
    "\n",
    "# Check that binary serach works\n",
    "my_list = [1, 3, 5, 7, 9]\n",
    "print(binary_search(my_list, 3)) # => 1\n",
    "\n",
    "# 'None' means nil in Python. We use to indicate that the item wasn't found.\n",
    "print(binary_search(my_list, -1)) # => None"
   ]
  },
  {
   "cell_type": "markdown",
   "metadata": {},
   "source": [
    "**Results of the test: The algorithms works as expected.** <br>"
   ]
  },
  {
   "cell_type": "markdown",
   "metadata": {},
   "source": [
    "# Generate And Test Random Data \n",
    "The random seed generator provided in the project requirements returned the value 922.<br>\n",
    "Leveraging a seed as such creates reproducable work.<br>\n",
    "That seed has been set below.<br>\n",
    "\n",
    "The assignment has asked that the algorithms be tested a fictional name.  The names are to be generated with random characters.  Names are to be 10 characters long with the name generated with random characters. \n",
    "\n",
    "Later tests require that the data be sorted.\n",
    "We will perform that step here while we are generating the data.\n",
    "\n",
    "Merge sort has been selected for its general efficency.\n",
    "Merge sort operates in O(n log(n)) time at both its average and worst case senarios.\n",
    "\n",
    "To ensure that the same tests are performed on each data set, a function will be generated to capture the requested tests. "
   ]
  },
  {
   "cell_type": "code",
   "execution_count": 4,
   "metadata": {},
   "outputs": [
    {
     "name": "stdout",
     "output_type": "stream",
     "text": [
      "First three firstnames are: ['bqpggxcwhj', 'kdsejkhxkn', 'enhxuewxyi']\n",
      "First three sorted firstnames are: ['aivcduclkj' 'bjmcivratn' 'bqpggxcwhj']\n",
      "Confirmed, eveything appears as expected\n"
     ]
    }
   ],
   "source": [
    "# Set Random Seeds\n",
    "SEED = np.random.seed(922)\n",
    "random.seed(922)\n",
    "\n",
    "# Generate random names\n",
    "def gen_name(array_len):\n",
    "    temp1=[]\n",
    "    i=0\n",
    "    while i < array_len:\n",
    "        temp2 = ''.join(random.choice(string.ascii_lowercase) for n in range(10))\n",
    "        temp1.append(temp2)\n",
    "        i+=1\n",
    "    return temp1\n",
    "\n",
    "# Generate first and last names\n",
    "a_firstname = gen_name(100)\n",
    "# Sorted version for later use\n",
    "sort_a_firstname = np.sort(a_firstname, kind='mergesort')\n",
    "\n",
    "\n",
    "# Generage an enumarted dictionary of generated names; the key is the name; number is value \n",
    "name_dict = {a_firstname[i] : i  for i in range (0, len(a_firstname))}\n",
    "# Sorted version for later use\n",
    "sort_dict = {sort_a_firstname[i] : i  for i in range (0, len(sort_a_firstname))}\n",
    "\n",
    "\n",
    "# Print a sample from each set to ensure data is consistant with expectations\n",
    "print('First three firstnames are:', a_firstname[:3])\n",
    "print('First three sorted firstnames are:', sort_a_firstname[:3])\n",
    "print('Confirmed, eveything appears as expected')"
   ]
  },
  {
   "cell_type": "markdown",
   "metadata": {},
   "source": [
    "## Draw names to search for\n",
    "Generate a random index in within the array bounds.\n",
    "Use the index to retrieve five random names to then search the dataset for using linear search.\n",
    "\n",
    "Also retrive from selected postions.\n",
    "\n",
    "Assignment requirements also request the names at the nth position [10th, 30th, 50th, 70th, 90th and 100th positions].\n",
    "Because index begins at 0 it is n-1.\n"
   ]
  },
  {
   "cell_type": "code",
   "execution_count": 5,
   "metadata": {},
   "outputs": [
    {
     "name": "stdout",
     "output_type": "stream",
     "text": [
      "Randomly drawn names from the array are:\n",
      " ['uaxazrvizo', 'lzxlfurwuh', 'wvaegzrwqs', 'mnyppwjhxr', 'eicyjnzmol']\n",
      "The names at the positions defined in the requirements are:\n",
      " ['dtzrrmebpl', 'itdqrogzue', 'nhcmazefiy', 'sruxuhxqqa', 'wzfpvcryki', 'zzzjzhedkh']\n"
     ]
    }
   ],
   "source": [
    "random.seed(922)\n",
    "\n",
    "# Draw random names from an array to search for later\n",
    "find_names = [randint(0,100),\n",
    "              randint(0,100),\n",
    "              randint(0,100),\n",
    "              randint(0,100),\n",
    "              randint(0,100)\n",
    "             ]\n",
    "\n",
    "name_array = [a_firstname[find_names[0]],\n",
    "              a_firstname[find_names[1]],\n",
    "              a_firstname[find_names[2]],\n",
    "              a_firstname[find_names[3]],\n",
    "              a_firstname[find_names[4]]\n",
    "             ]\n",
    "\n",
    "print('Randomly drawn names from the array are:\\n',\n",
    "      name_array)\n",
    "\n",
    "# Draw names from positions in the sorted array\n",
    "name_array2 = [sort_a_firstname[9],\n",
    "               sort_a_firstname[29],\n",
    "               sort_a_firstname[49],\n",
    "               sort_a_firstname[69],\n",
    "               sort_a_firstname[89],\n",
    "               sort_a_firstname[99]\n",
    "              ]\n",
    "\n",
    "print('The names at the positions defined in the requirements are:\\n',\n",
    "      name_array2)"
   ]
  },
  {
   "cell_type": "markdown",
   "metadata": {},
   "source": [
    "## Create function to run the trial\n",
    "Here we define a function to perform the test the test for binary, linear, and hash table searches.\n",
    "\n",
    "This ensures that we get consistent output and can quickly iterate through the trials."
   ]
  },
  {
   "cell_type": "code",
   "execution_count": 6,
   "metadata": {},
   "outputs": [],
   "source": [
    "# Define function to sort & store the data associated with the trials\n",
    "def run_trial(sel_array, find_array):\n",
    "    # Create an empty list to store results\n",
    "    fun_results=list([])\n",
    "    fun_names=list([])\n",
    "    fun_timer=list([])\n",
    "    fun_method=list([])\n",
    "      \n",
    "    for i in find_array:\n",
    "        start = time.clock() # Timestamp start\n",
    "        fun_results.append(linear_search(sel_array, i)) # Runs the algorithm\n",
    "        fun_names.append(i) # Returns the value that was found\n",
    "        end = time.clock() # Timestamp finish\n",
    "        fun_method.append('linear_search')\n",
    "        fun_timer.append(round((end - start)*1000,6)) # Convert to milliseconds \n",
    "\n",
    "    for i in find_array:\n",
    "        start = time.clock() # Timestamp start\n",
    "        # NOTE BINARY SEARCH WILL NOT WORK W/O BEING SORTED FIRST\n",
    "        fun_results.append(binary_search(sel_array, i)) # Runs the algorithm\n",
    "        fun_names.append(i) # Returns the value that was found\n",
    "        end = time.clock() # Timestamp finish\n",
    "        fun_method.append('binary_search')\n",
    "        fun_timer.append(round((end - start)*1000,6)) # Convert to milliseconds \n",
    "    \n",
    "    for i in find_array:\n",
    "        start = time.clock() # Timestamp start\n",
    "        fun_results.append(name_dict.get(i)) # Runs the algorithm\n",
    "        fun_names.append(i) # Returns the value that was found\n",
    "        end = time.clock() # Timestamp finish\n",
    "        fun_method.append('hash_table')\n",
    "        fun_timer.append(round((end - start)*1000,6)) # Convert to milliseconds \n",
    "    \n",
    "    return [fun_method, fun_names, fun_timer, fun_results] # Returns what was run, the time it was run, and the output"
   ]
  },
  {
   "cell_type": "markdown",
   "metadata": {},
   "source": [
    "# Run Trials \n",
    "There are four permutations of this problem that have been run and stored."
   ]
  },
  {
   "cell_type": "code",
   "execution_count": 7,
   "metadata": {},
   "outputs": [],
   "source": [
    "# Run on unsorted array, with the randomized five names to find\n",
    "trial1 = run_trial(a_firstname,name_array)\n",
    "\n",
    "# Run on sorted array, with the selected index location for six names to find\n",
    "trial2 = run_trial(sort_a_firstname,name_array2)\n",
    "\n",
    "# Run on unsorted  array, with selected index location for six names to find\n",
    "trial3 = run_trial(a_firstname,name_array2)\n",
    "\n",
    "# Run on sorted array, with the randomized five names to find\n",
    "trial4 = run_trial(sort_a_firstname,name_array)\n"
   ]
  },
  {
   "cell_type": "markdown",
   "metadata": {},
   "source": [
    "# Create Pandas Data Frame\n",
    "\n",
    "Most of the work has been completed, this next step passes the generated data to the selected functions defined previously.  The arrays are then summarized into a pandas data frame for further analysis. "
   ]
  },
  {
   "cell_type": "code",
   "execution_count": 8,
   "metadata": {},
   "outputs": [
    {
     "data": {
      "text/html": [
       "<div>\n",
       "<style scoped>\n",
       "    .dataframe tbody tr th:only-of-type {\n",
       "        vertical-align: middle;\n",
       "    }\n",
       "\n",
       "    .dataframe tbody tr th {\n",
       "        vertical-align: top;\n",
       "    }\n",
       "\n",
       "    .dataframe thead th {\n",
       "        text-align: right;\n",
       "    }\n",
       "</style>\n",
       "<table border=\"1\" class=\"dataframe\">\n",
       "  <thead>\n",
       "    <tr style=\"text-align: right;\">\n",
       "      <th></th>\n",
       "      <th>method</th>\n",
       "      <th>values_searched</th>\n",
       "      <th>timer</th>\n",
       "      <th>results</th>\n",
       "      <th>presorted</th>\n",
       "      <th>search_sel_method</th>\n",
       "      <th>items_to_find</th>\n",
       "    </tr>\n",
       "  </thead>\n",
       "  <tbody>\n",
       "    <tr>\n",
       "      <th>0</th>\n",
       "      <td>linear_search</td>\n",
       "      <td>uaxazrvizo</td>\n",
       "      <td>0.003879</td>\n",
       "      <td>6.0</td>\n",
       "      <td>N</td>\n",
       "      <td>random</td>\n",
       "      <td>5</td>\n",
       "    </tr>\n",
       "    <tr>\n",
       "      <th>1</th>\n",
       "      <td>linear_search</td>\n",
       "      <td>lzxlfurwuh</td>\n",
       "      <td>0.007758</td>\n",
       "      <td>64.0</td>\n",
       "      <td>N</td>\n",
       "      <td>random</td>\n",
       "      <td>5</td>\n",
       "    </tr>\n",
       "    <tr>\n",
       "      <th>2</th>\n",
       "      <td>linear_search</td>\n",
       "      <td>wvaegzrwqs</td>\n",
       "      <td>0.006788</td>\n",
       "      <td>62.0</td>\n",
       "      <td>N</td>\n",
       "      <td>random</td>\n",
       "      <td>5</td>\n",
       "    </tr>\n",
       "    <tr>\n",
       "      <th>3</th>\n",
       "      <td>linear_search</td>\n",
       "      <td>mnyppwjhxr</td>\n",
       "      <td>0.002909</td>\n",
       "      <td>25.0</td>\n",
       "      <td>N</td>\n",
       "      <td>random</td>\n",
       "      <td>5</td>\n",
       "    </tr>\n",
       "    <tr>\n",
       "      <th>4</th>\n",
       "      <td>linear_search</td>\n",
       "      <td>eicyjnzmol</td>\n",
       "      <td>0.003394</td>\n",
       "      <td>26.0</td>\n",
       "      <td>N</td>\n",
       "      <td>random</td>\n",
       "      <td>5</td>\n",
       "    </tr>\n",
       "  </tbody>\n",
       "</table>\n",
       "</div>"
      ],
      "text/plain": [
       "          method values_searched     timer  results presorted  \\\n",
       "0  linear_search      uaxazrvizo  0.003879      6.0         N   \n",
       "1  linear_search      lzxlfurwuh  0.007758     64.0         N   \n",
       "2  linear_search      wvaegzrwqs  0.006788     62.0         N   \n",
       "3  linear_search      mnyppwjhxr  0.002909     25.0         N   \n",
       "4  linear_search      eicyjnzmol  0.003394     26.0         N   \n",
       "\n",
       "  search_sel_method  items_to_find  \n",
       "0            random              5  \n",
       "1            random              5  \n",
       "2            random              5  \n",
       "3            random              5  \n",
       "4            random              5  "
      ]
     },
     "execution_count": 8,
     "metadata": {},
     "output_type": "execute_result"
    }
   ],
   "source": [
    "# Store the performance outputs for analysis\n",
    "\n",
    "# Trial 1 - unsorted array, with the randomized five names to find\n",
    "df = pd.DataFrame({'method': trial1[0],\n",
    "                   'values_searched': trial1[1],\n",
    "                   'timer': trial1[2],\n",
    "                   'results': trial1[3], \n",
    "                   'presorted': 'N', \n",
    "                   'search_sel_method':'random',\n",
    "                   'items_to_find':5\n",
    "                    })\n",
    "\n",
    "# Trial 2 - sorted array, with the selected index location for six names to find\n",
    "df1 = pd.DataFrame({'method': trial2[0],\n",
    "                   'values_searched': trial2[1],\n",
    "                   'timer': trial2[2],\n",
    "                   'results': trial2[3], \n",
    "                   'presorted': 'Y',\n",
    "                   'search_sel_method':'index_location',\n",
    "                   'items_to_find':6\n",
    "                    })\n",
    "\n",
    "# Trial 3 - unsorted  array, with selected index location for six names to find\n",
    "df2 = pd.DataFrame({'method': trial3[0],\n",
    "                   'values_searched': trial3[1],\n",
    "                   'timer': trial3[2],\n",
    "                   'results': trial3[3], \n",
    "                   'presorted': 'N',\n",
    "                   'search_sel_method':'index_location',\n",
    "                   'items_to_find':6\n",
    "                    })\n",
    "\n",
    "# Trial 4 - sorted array, with the randomized five names to find\n",
    "df3 = pd.DataFrame({'method': trial4[0],\n",
    "                   'values_searched': trial4[1],\n",
    "                   'timer': trial4[2],\n",
    "                   'results': trial4[3], \n",
    "                   'presorted': 'Y',\n",
    "                   'search_sel_method':'random',\n",
    "                   'items_to_find':5\n",
    "                    })\n",
    "\n",
    "\n",
    "# Combine metrics into master data frame\n",
    "df_master = pd.concat([df, df1, df2, df3])\n",
    "df_master.head()"
   ]
  },
  {
   "cell_type": "code",
   "execution_count": 9,
   "metadata": {},
   "outputs": [
    {
     "data": {
      "text/html": [
       "<div>\n",
       "<style scoped>\n",
       "    .dataframe tbody tr th:only-of-type {\n",
       "        vertical-align: middle;\n",
       "    }\n",
       "\n",
       "    .dataframe tbody tr th {\n",
       "        vertical-align: top;\n",
       "    }\n",
       "\n",
       "    .dataframe thead th {\n",
       "        text-align: right;\n",
       "    }\n",
       "</style>\n",
       "<table border=\"1\" class=\"dataframe\">\n",
       "  <thead>\n",
       "    <tr style=\"text-align: right;\">\n",
       "      <th></th>\n",
       "      <th></th>\n",
       "      <th>presorted</th>\n",
       "      <th>N</th>\n",
       "      <th>Y</th>\n",
       "    </tr>\n",
       "    <tr>\n",
       "      <th>items_to_find</th>\n",
       "      <th>search_sel_method</th>\n",
       "      <th>method</th>\n",
       "      <th></th>\n",
       "      <th></th>\n",
       "    </tr>\n",
       "  </thead>\n",
       "  <tbody>\n",
       "    <tr>\n",
       "      <th rowspan=\"3\" valign=\"top\">5</th>\n",
       "      <th rowspan=\"3\" valign=\"top\">random</th>\n",
       "      <th>binary_search</th>\n",
       "      <td>0.007274</td>\n",
       "      <td>0.013575</td>\n",
       "    </tr>\n",
       "    <tr>\n",
       "      <th>hash_table</th>\n",
       "      <td>0.002425</td>\n",
       "      <td>0.001940</td>\n",
       "    </tr>\n",
       "    <tr>\n",
       "      <th>linear_search</th>\n",
       "      <td>0.024728</td>\n",
       "      <td>0.093091</td>\n",
       "    </tr>\n",
       "    <tr>\n",
       "      <th rowspan=\"3\" valign=\"top\">6</th>\n",
       "      <th rowspan=\"3\" valign=\"top\">index_location</th>\n",
       "      <th>binary_search</th>\n",
       "      <td>0.006790</td>\n",
       "      <td>0.017455</td>\n",
       "    </tr>\n",
       "    <tr>\n",
       "      <th>hash_table</th>\n",
       "      <td>0.000970</td>\n",
       "      <td>0.002910</td>\n",
       "    </tr>\n",
       "    <tr>\n",
       "      <th>linear_search</th>\n",
       "      <td>0.042667</td>\n",
       "      <td>0.124123</td>\n",
       "    </tr>\n",
       "  </tbody>\n",
       "</table>\n",
       "</div>"
      ],
      "text/plain": [
       "presorted                                             N         Y\n",
       "items_to_find search_sel_method method                           \n",
       "5             random            binary_search  0.007274  0.013575\n",
       "                                hash_table     0.002425  0.001940\n",
       "                                linear_search  0.024728  0.093091\n",
       "6             index_location    binary_search  0.006790  0.017455\n",
       "                                hash_table     0.000970  0.002910\n",
       "                                linear_search  0.042667  0.124123"
      ]
     },
     "execution_count": 9,
     "metadata": {},
     "output_type": "execute_result"
    }
   ],
   "source": [
    "# Create summary pivot table, try to compare like-to-like results\n",
    "pd.pivot_table(df_master, index=['items_to_find', 'search_sel_method', 'method'], columns='presorted', values='timer', aggfunc=np.sum)"
   ]
  },
  {
   "cell_type": "markdown",
   "metadata": {},
   "source": [
    "# Visualize Results"
   ]
  },
  {
   "cell_type": "code",
   "execution_count": 10,
   "metadata": {},
   "outputs": [],
   "source": [
    "# Create plot of time versus the position in the array that was identified\n",
    "# Create a function to produce the same visuzal for several trials\n",
    "\n",
    "def vizualize(sort, items, shape):\n",
    "    plt.plot(df_master[(df_master['method'] == 'hash_table') \n",
    "                & (df_master['presorted']==sort)\n",
    "                & (df_master['items_to_find']==items)]['results'],\n",
    "             df_master[(df_master['method'] == 'hash_table')\n",
    "                & (df_master['presorted']==sort)\n",
    "                & (df_master['items_to_find']==items)]['timer'],\n",
    "             'r'+shape, label='hash_table - '+ sort+' sort -'+ str(items)+' items')\n",
    "\n",
    "    plt.plot(df_master[(df_master['method'] == 'binary_search') \n",
    "                & (df_master['presorted']==sort)\n",
    "                & (df_master['items_to_find']==items)]['results'],\n",
    "             df_master[(df_master['method'] == 'binary_search')\n",
    "                & (df_master['presorted']==sort)\n",
    "                & (df_master['items_to_find']==items)]['timer'],\n",
    "             'b'+shape, label='binary_search - '+ sort+' sort -'+ str(items)+' items')\n",
    "    \n",
    "    plt.plot(df_master[(df_master['method'] == 'linear_search') \n",
    "                & (df_master['presorted']==sort)\n",
    "                & (df_master['items_to_find']==items)]['results'],\n",
    "             df_master[(df_master['method'] == 'linear_search')\n",
    "                & (df_master['presorted']==sort)\n",
    "                & (df_master['items_to_find']==items)]['timer'],\n",
    "             'g'+shape, label='linear_search - '+ sort+' sort -'+ str(items)+' items')\n",
    "\n",
    "    # Label Graph\n",
    "    plt.ylabel('Time in Milliseconds')\n",
    "    plt.xlabel('Position in the List')\n",
    "    plt.title('Linear, Binary, Hash Search Times: No Sort - 5 Items')\n",
    "\n",
    "    #plt.axis([0, 100, -1, 1])\n",
    "    #Create Legend and define axes\n",
    "    plt.legend()\n",
    "    plt.show()"
   ]
  },
  {
   "cell_type": "code",
   "execution_count": 11,
   "metadata": {},
   "outputs": [
    {
     "data": {
      "image/png": "[encoded data removed]",
      "text/plain": [
       "<Figure size 432x288 with 1 Axes>"
      ]
     },
     "metadata": {
      "needs_background": "light"
     },
     "output_type": "display_data"
    },
    {
     "name": "stdout",
     "output_type": "stream",
     "text": [
      "binary search fails because it is not presorted\n"
     ]
    }
   ],
   "source": [
    "vizualize('N',5,'o')\n",
    "print('binary search fails because it is not presorted')"
   ]
  },
  {
   "cell_type": "code",
   "execution_count": 12,
   "metadata": {},
   "outputs": [
    {
     "data": {
      "image/png": "[encoded data removed]",
      "text/plain": [
       "<Figure size 432x288 with 1 Axes>"
      ]
     },
     "metadata": {
      "needs_background": "light"
     },
     "output_type": "display_data"
    }
   ],
   "source": [
    "vizualize('Y',5,'D')"
   ]
  },
  {
   "cell_type": "code",
   "execution_count": 13,
   "metadata": {},
   "outputs": [
    {
     "data": {
      "image/png": "[encoded data removed]",
      "text/plain": [
       "<Figure size 432x288 with 1 Axes>"
      ]
     },
     "metadata": {
      "needs_background": "light"
     },
     "output_type": "display_data"
    },
    {
     "name": "stdout",
     "output_type": "stream",
     "text": [
      "binary search fails because it is not presorted\n"
     ]
    }
   ],
   "source": [
    "vizualize('N',6,'*')\n",
    "print('binary search fails because it is not presorted')"
   ]
  },
  {
   "cell_type": "code",
   "execution_count": 14,
   "metadata": {},
   "outputs": [
    {
     "data": {
      "image/png": "[encoded data removed]",
      "text/plain": [
       "<Figure size 432x288 with 1 Axes>"
      ]
     },
     "metadata": {
      "needs_background": "light"
     },
     "output_type": "display_data"
    }
   ],
   "source": [
    "vizualize('Y',6,'s')"
   ]
  },
  {
   "cell_type": "markdown",
   "metadata": {},
   "source": [
    "The graphics above are what was created for all tests performed as part of this assigment.  \n",
    "The algorithm operates extremely quickly and hardly takes any time to run.\n",
    "\n",
    "**The quickest search method is certainly leveraging Hash/Dictionaries which is expected based on bigO notation.**\n",
    "\n",
    "Data engineers are required to consider how to ensure that an operation can perform effectively at scale.  This exercise helps to reinforce the value of measuring and testing algorithms as they scale."
   ]
  }
 ],
 "metadata": {
  "kernelspec": {
   "display_name": "Python 3",
   "language": "python",
   "name": "python3"
  },
  "language_info": {
   "codemirror_mode": {
    "name": "ipython",
    "version": 3
   },
   "file_extension": ".py",
   "mimetype": "text/x-python",
   "name": "python",
   "nbconvert_exporter": "python",
   "pygments_lexer": "ipython3",
   "version": "3.6.7"
  }
 },
 "nbformat": 4,
 "nbformat_minor": 2
}
