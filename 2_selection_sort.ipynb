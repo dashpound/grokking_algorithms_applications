{
 "cells": [
  {
   "cell_type": "markdown",
   "metadata": {},
   "source": [
    "# Testing Selection Sort  \n",
    "## MSDS-432 - Kiley - Week 2 Assignment\n",
    "### Assignment Overview\n",
    "The mini-programming assignment requires us to implement and test the performance of a sort algorithm manually applied in Python.\n",
    "\n",
    "The algorithms performance will be measured using Big O notation. <br>\n",
    "**Big O Notation** is a way to communicate the number of operations required to perform an algorithm in the worst-case scenario.  The number of operations is represented by n.\n",
    "\n",
    "For selection sort algorithms, the worst-case scenario is when where the list must be run through n items ~1/2 n times.  This requires that the algorithm view all of the data and remove one item each time.\n",
    "\n",
    "This assignment is git controlled.  The repo was prepared using git bash.\n",
    "\n",
    "# Setting up working environment, define and test key functions\n",
    "The packages selected in \"In[1]\" are all the packages required for the subsequent operations. <br>\n",
    "They are named based on standard python naming conventions."
   ]
  },
  {
   "cell_type": "code",
   "execution_count": 1,
   "metadata": {},
   "outputs": [],
   "source": [
    "# Set up working environment\n",
    "import numpy as np\n",
    "import time\n",
    "import pandas as pd\n",
    "import matplotlib.pyplot as plt"
   ]
  },
  {
   "cell_type": "markdown",
   "metadata": {},
   "source": [
    "**Selection Sort** leverages code from *Grokking Algorithms*; the code was sourced from github.\n",
    "https://github.com/egonSchiele/grokking_algorithms/blob/master/02_selection_sort/python/01_selection_sort.py\n",
    "\n",
    "Selection sort is not known to be a quick sorting algorithm, and it is known to operate in O(n^2) time.\n",
    "\n",
    "We will define it as a function so that it may be applied to multiple arrays consistently and quickly."
   ]
  },
  {
   "cell_type": "code",
   "execution_count": 2,
   "metadata": {},
   "outputs": [],
   "source": [
    "# Finds the smallest value in an array\n",
    "def findSmallest(arr):\n",
    "  # Stores the smallest value\n",
    "  smallest = arr[0]\n",
    "  # Stores the index of the smallest value\n",
    "  smallest_index = 0\n",
    "  for i in range(1, len(arr)):\n",
    "    if arr[i] < smallest:\n",
    "      smallest_index = i\n",
    "      smallest = arr[i]      \n",
    "  return smallest_index\n",
    "\n",
    "# Sort array\n",
    "def selectionSort(arr):\n",
    "  newArr = []\n",
    "  for i in range(len(arr)):\n",
    "      # Finds the smallest element in the array and adds it to the new array\n",
    "      smallest = findSmallest(arr)\n",
    "      newArr.append(arr.pop(smallest))\n",
    "  return newArr"
   ]
  },
  {
   "cell_type": "code",
   "execution_count": 3,
   "metadata": {},
   "outputs": [
    {
     "name": "stdout",
     "output_type": "stream",
     "text": [
      "[2, 3, 5, 6, 10]\n"
     ]
    }
   ],
   "source": [
    "# Check that linear search works\n",
    "my_list = [5, 3, 6, 2, 10]\n",
    "\n",
    "# 'None' means nil in Python. We use to indicate that the item wasn't found.\n",
    "print(selectionSort(my_list))"
   ]
  },
  {
   "cell_type": "markdown",
   "metadata": {},
   "source": [
    "**Results of the test: The algorithm works as expected.** <br>"
   ]
  },
  {
   "cell_type": "code",
   "execution_count": 4,
   "metadata": {},
   "outputs": [],
   "source": [
    "def gen_array(array): \n",
    "    \n",
    "    # Return the length of the array\n",
    "    size = len(array)\n",
    "    \n",
    "    # Sort\n",
    "    start = time.time()\n",
    "    selectionSort([array])\n",
    "    end = time.time()\n",
    "    sort_it_time = end-start \n",
    "    #Put in milliseconds\n",
    "    sort_it_time = (round(sort_it_time * 1000, 2))\n",
    "    \n",
    "    return [size, sort_it_time]"
   ]
  },
  {
   "cell_type": "markdown",
   "metadata": {},
   "source": [
    "The assignment has asked that the algorithms be tested at various sizes of generated data.  \n",
    "To ensure that the same tests are performed on each data set, a function will be generated to capture the requested tests. \n",
    "\n",
    "The requested output are:\n",
    "* Number of values in the dataset\n",
    "* Time (in milliseconds) to run Selection source\n",
    "\n",
    "These output will be put into a pandas dataframe called \"df\". "
   ]
  },
  {
   "cell_type": "markdown",
   "metadata": {},
   "source": [
    "A helper function called check_array has been written to test that the arrays were generated properly and view the first five values of each array."
   ]
  },
  {
   "cell_type": "code",
   "execution_count": 5,
   "metadata": {},
   "outputs": [],
   "source": [
    "# Print array\n",
    "# Check the first five values\n",
    "def check_array(array): \n",
    "    print('-----------------------------')\n",
    "    print('Checks for select array are:')\n",
    "    print('The len of the array is:', len(array))\n",
    "    print('First five values')\n",
    "    print(array[:5])\n",
    "    print('-----------------------------')"
   ]
  },
  {
   "cell_type": "markdown",
   "metadata": {},
   "source": [
    "# Generate And Test Random Data Arrays\n",
    "The random seed generator provided in the project requirements returned the value 922.<br>\n",
    "Leveraging a seed as such creates reproducable work.<br>\n",
    "That seed has been set below.\n",
    "\n",
    "Per the requirements, using a random number generator with a uniform probabilty of each value occuring, generate five arrays of varying lengths.  The varying lengths double in scale.\n",
    "\n",
    "The requested lengths are:\n",
    "* 5000\n",
    "* 10000\n",
    "* 15000\n",
    "* 20000\n",
    "* 25000\n",
    "\n",
    "The interval for the data was not specified.  I've assumed 0 - 100,000 was acceptable."
   ]
  },
  {
   "cell_type": "code",
   "execution_count": 6,
   "metadata": {},
   "outputs": [
    {
     "name": "stdout",
     "output_type": "stream",
     "text": [
      "-----------------------------\n",
      "Checks for select array are:\n",
      "The len of the array is: 5000\n",
      "First five values\n",
      "[35952.21525531 29502.23884122 89936.94513907 52063.75169795\n",
      "  2679.78684961]\n",
      "-----------------------------\n",
      "-----------------------------\n",
      "Checks for select array are:\n",
      "The len of the array is: 10000\n",
      "First five values\n",
      "[27381.32591116 55093.39921013 44044.96419899 70531.87323054\n",
      " 38218.09087982]\n",
      "-----------------------------\n",
      "-----------------------------\n",
      "Checks for select array are:\n",
      "The len of the array is: 15000\n",
      "First five values\n",
      "[39999.53285328 77835.24448715 55224.2777935  88948.53213981\n",
      " 47206.79779219]\n",
      "-----------------------------\n",
      "-----------------------------\n",
      "Checks for select array are:\n",
      "The len of the array is: 20000\n",
      "First five values\n",
      "[98996.44346143  2869.33715832 62146.32781808 41426.03607946\n",
      "  1395.28853861]\n",
      "-----------------------------\n",
      "-----------------------------\n",
      "Checks for select array are:\n",
      "The len of the array is: 25000\n",
      "First five values\n",
      "[64353.04458874 94223.4850114  56140.06863341 50917.15048196\n",
      " 35848.59325187]\n",
      "-----------------------------\n"
     ]
    }
   ],
   "source": [
    "# Set Random Seeds\n",
    "SEED = np.random.seed(922)\n",
    "\n",
    "# Create array 1, 2, 3, 4, 5\n",
    "a1 = np.random.uniform(0,100000,5000)\n",
    "a2 = np.random.uniform(0,100000,10000)\n",
    "a3 = np.random.uniform(0,100000,15000)\n",
    "a4 = np.random.uniform(0,100000,20000)\n",
    "a5 = np.random.uniform(0,100000,25000)\n",
    "\n",
    "# Check all five arrays\n",
    "check_array(a1)\n",
    "check_array(a2)\n",
    "check_array(a3)\n",
    "check_array(a4)\n",
    "check_array(a5)"
   ]
  },
  {
   "cell_type": "markdown",
   "metadata": {},
   "source": [
    "The first five values are unsorted, as expected.  Running the code multiple times produces the same output, meaning that the random seed is functioning correctly.\n",
    "\n",
    "The data has been successfully generated.\n",
    "\n",
    "# Run Trials and Create Pandas Data Frame\n",
    "\n",
    "Most of the work has been completed, this next step passes the generated data to the gen_array function defined previously.  The arrays are then summarized into a pandas data frame for further analysis. "
   ]
  },
  {
   "cell_type": "code",
   "execution_count": 7,
   "metadata": {},
   "outputs": [
    {
     "name": "stdout",
     "output_type": "stream",
     "text": [
      "     len  sort_it_time\n",
      "0   5000           0.0\n",
      "1  10000           0.0\n",
      "2  15000           0.0\n",
      "3  20000           0.0\n",
      "4  25000           0.0\n"
     ]
    }
   ],
   "source": [
    "# Run Trials\n",
    "trial1 = gen_array(a1)\n",
    "trial2 = gen_array(a2)\n",
    "trial3 = gen_array(a3)\n",
    "trial4 = gen_array(a4)\n",
    "trial5 = gen_array(a5)\n",
    "\n",
    "# Create pandas dataframe of trials\n",
    "df = pd.DataFrame([trial1, trial2, trial3, trial4, trial5], \n",
    "                  columns=['len', 'sort_it_time'])\n",
    "\n",
    "# Print pandas dataframe of trials\n",
    "print(df)"
   ]
  },
  {
   "cell_type": "markdown",
   "metadata": {},
   "source": [
    "Perhaps unfortunately, the computer is able to churn through these problems extremely quickly.  So quickly infact that sort time hardly registers on the scale (which is in milliseconds).  If we were to continue the pattern of the size of the data continuously doubling (which, as the program has been designed would be an easy implementation), we would see even more pronounced results in the differences between the algorithms.\n",
    "\n",
    "Too see if it would register, I scaled the data up by factors of 10x 100x 1000x.  The algorithm continued to run extremely quickly.\n",
    "\n",
    "The resulting data frame produces results that are consistent with our expectations.\n",
    "\n",
    "# Visualize Results"
   ]
  },
  {
   "cell_type": "code",
   "execution_count": 8,
   "metadata": {},
   "outputs": [
    {
     "data": {
      "image/png": "[encoded data removed]",
      "text/plain": [
       "<Figure size 432x288 with 1 Axes>"
      ]
     },
     "metadata": {
      "needs_background": "light"
     },
     "output_type": "display_data"
    }
   ],
   "source": [
    "# Create plot of time versus complexity of array\n",
    "\n",
    "# Plot Binary Time\n",
    "plt.plot(df['len'], df['sort_it_time'], 'ro')\n",
    "\n",
    "# Label Graph\n",
    "plt.ylabel('Time in Milliseconds')\n",
    "plt.xlabel('Size of Array')\n",
    "plt.title('Selection Sort Time')\n",
    "\n",
    "#Create Legend and define axes\n",
    "plt.legend()\n",
    "plt.axis([0, 30000, -1, 10])\n",
    "plt.show()"
   ]
  },
  {
   "cell_type": "markdown",
   "metadata": {},
   "source": [
    "The resulting graphic for all tests performed as part of this assigment.  \n",
    "The algorithm operates extremely quickly and hardly takes any time to run.\n",
    "\n",
    "Data engineers are required to consider how to ensure that an operation can perform effectively at scale.  This exercise helps to reinforce the value of measuring and testing algorithms as they scale."
   ]
  }
 ],
 "metadata": {
  "kernelspec": {
   "display_name": "Python 3",
   "language": "python",
   "name": "python3"
  },
  "language_info": {
   "codemirror_mode": {
    "name": "ipython",
    "version": 3
   },
   "file_extension": ".py",
   "mimetype": "text/x-python",
   "name": "python",
   "nbconvert_exporter": "python",
   "pygments_lexer": "ipython3",
   "version": "3.6.7"
  }
 },
 "nbformat": 4,
 "nbformat_minor": 2
}
