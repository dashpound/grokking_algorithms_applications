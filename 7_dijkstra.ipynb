{
 "cells": [
  {
   "cell_type": "markdown",
   "metadata": {},
   "source": [
    "# Dijkstra's Algorithm\n",
    "## MSDS-432 - Kiley - Week 7 Assignment\n",
    "### Assignment Overview\n",
    "The mini-programming assignment requires us to implement and test the performance of dijkstra's algorithm compared to breadth-first algorithm from *Grokking Algorithms*.\n",
    "\n",
    "This assignment requires us to calculate the shortest route from NYC to LA using the relationships defined in the exhibit provided.\n",
    "\n",
    "We are to test dijkstra's algorithm, which will consider the weights (times) of the edges of of the connected nodes (to travel between cities) and the breadth first algorth which will simply find the fewest nodes as it works through its queue, not considering weighting.   \n",
    "\n",
    "The output and the time required to search to be captured, reported, and analyzed.\n",
    "\n",
    "<hr>\n",
    "\n",
    "**Big O Notation** is a way to communicate the number of operations required to perform an algorithm in the worst-case scenario.  The number of operations is represented by n.\n",
    "\n",
    "Found a wonderful reference site called http://bigocheatsheet.com/.\n",
    "\n",
    "This assignment is git controlled.  The repo was prepared using git bash.\n",
    "\n",
    "# Setting up working environment, define and test key functions\n",
    "The packages selected in \"In[1]\" are all the packages required for the subsequent operations. <br>\n",
    "They are named based on standard python naming conventions."
   ]
  },
  {
   "cell_type": "code",
   "execution_count": 1,
   "metadata": {},
   "outputs": [],
   "source": [
    "# Set up working environment\n",
    "import numpy as np\n",
    "import time\n",
    "import pandas as pd\n",
    "import matplotlib.pyplot as plt\n",
    "from collections import deque\n",
    "import networkx as nx\n",
    "\n",
    "from IPython.core.interactiveshell import InteractiveShell\n",
    "InteractiveShell.ast_node_interactivity = \"all\""
   ]
  },
  {
   "cell_type": "markdown",
   "metadata": {},
   "source": [
    "# Generate And Test Data \n",
    "The assignment has provided a graph of nodes and edges.  The following section splits those nodes and edges into dictionaries so that they can be used with both the graphing package networkx; as well as the algorithms. \n",
    "\n",
    "This format of defining the dictionaries is borrowd from *Grokking Algorithms*"
   ]
  },
  {
   "cell_type": "code",
   "execution_count": 2,
   "metadata": {},
   "outputs": [
    {
     "name": "stdout",
     "output_type": "stream",
     "text": [
      "{'NYC': {'Indianapolis': 11, 'Pittsburg': 7, 'DC': 2}, 'DC': {'Atlanta': 2}, 'Indianapolis': {'Kansas City': 8}, 'Pittsburg': {'Cincinnati': 6}, 'Atlanta': {'New Orleans': 2}, 'Kansas City': {'Denver': 7}, 'Cincinnati': {'St Louis': 8}, 'New Orleans': {'Dallas': 2}, 'Denver': {'SLC': 6}, 'St Louis': {'OKC': 7}, 'OKC': {'Albuquerque': 9}, 'Dallas': {'Albuquerque': 2}, 'SLC': {'Las Vegas': 9}, 'Albuquerque': {'Phoenix': 2}, 'Phoenix': {'San Diego': 5, 'Las Vegas': 2}, 'Las Vegas': {'San Diego': 2, 'Los Angeles': 5}, 'San Diego': {'Los Angeles': 2}, 'Los Angeles': {}}\n"
     ]
    }
   ],
   "source": [
    "# Initialize empty dictionary\n",
    "graph = {}\n",
    "\n",
    "# Graph all relationships & the weights for the city and the connected nodes to the city\n",
    "graph['NYC'] = {}\n",
    "graph['NYC']['Indianapolis']= 11\n",
    "graph['NYC']['Pittsburg']=7\n",
    "graph['NYC']['DC']=2\n",
    "\n",
    "graph['DC'] = {}\n",
    "graph['DC']['Atlanta']= 2\n",
    "\n",
    "graph['Indianapolis'] = {}\n",
    "graph['Indianapolis']['Kansas City']= 8\n",
    "\n",
    "graph['Pittsburg'] = {}\n",
    "graph['Pittsburg']['Cincinnati']= 6\n",
    "\n",
    "graph['Atlanta'] = {}\n",
    "graph['Atlanta']['New Orleans']= 2\n",
    "    \n",
    "graph['Kansas City'] = {}\n",
    "graph['Kansas City']['Denver']= 7   \n",
    "    \n",
    "graph['Cincinnati'] = {}\n",
    "graph['Cincinnati']['St Louis']= 8       \n",
    "    \n",
    "graph['New Orleans'] = {}\n",
    "graph['New Orleans']['Dallas']= 2        \n",
    "\n",
    "graph['Denver'] = {}\n",
    "graph['Denver']['SLC']= 6 \n",
    "\n",
    "graph['St Louis'] = {}\n",
    "graph['St Louis']['OKC']= 7\n",
    "        \n",
    "graph['OKC'] = {}\n",
    "graph['OKC']['Albuquerque']= 9\n",
    "    \n",
    "graph['Dallas'] = {}\n",
    "graph['Dallas']['Albuquerque']= 2    \n",
    "    \n",
    "graph['SLC'] = {}\n",
    "graph['SLC']['Las Vegas']= 9   \n",
    "    \n",
    "graph['Albuquerque'] = {}\n",
    "graph['Albuquerque']['Phoenix']= 2    \n",
    "\n",
    "graph['Phoenix'] = {}\n",
    "graph['Phoenix']['San Diego']= 5\n",
    "graph['Phoenix']['Las Vegas']= 2 \n",
    "    \n",
    "graph['Las Vegas'] = {}\n",
    "graph['Las Vegas']['San Diego']= 2\n",
    "graph['Las Vegas']['Los Angeles']= 5 \n",
    "    \n",
    "graph['San Diego'] = {}\n",
    "graph['San Diego']['Los Angeles']= 2\n",
    "\n",
    "# LA does not have any downstream nodes; this requires an empty item in the dictionary\n",
    "graph['Los Angeles'] = {}\n",
    "\n",
    "print(graph)"
   ]
  },
  {
   "cell_type": "markdown",
   "metadata": {},
   "source": [
    "## Set up the Cost Table\n",
    "Proper implementation of the dijkstra alorithm requires a table of the costs associated with moving between nodes.\n",
    "To begin, only the nodes directly connected to the initialization node, in this case NYC, can be populated with the true weight.\n",
    "\n",
    "Setting all none initializing nodes to infinity allows the algorithm to accept that they cannot be the shortest route ever."
   ]
  },
  {
   "cell_type": "code",
   "execution_count": 3,
   "metadata": {},
   "outputs": [
    {
     "name": "stdout",
     "output_type": "stream",
     "text": [
      "{'DC': 2, 'Indianapolis': 11, 'Pittsburg': 7, 'Atlanta': inf, 'Kansas City': inf, 'Cincinnati': inf, 'New Orleans': inf, 'Denver': inf, 'St Louis': inf, 'OKC': inf, 'Dallas': inf, 'SLC': inf, 'Albuquerque': inf, 'Phoenix': inf, 'Las Vegas': inf, 'San Diego': inf, 'Los Angeles': inf}\n"
     ]
    }
   ],
   "source": [
    "infin = float(\"inf\")\n",
    "costs = {}\n",
    "\n",
    "costs['DC']=2\n",
    "costs['Indianapolis']=11\n",
    "costs['Pittsburg']=7\n",
    "costs['Atlanta']=infin\n",
    "costs['Kansas City']=infin\n",
    "costs['Cincinnati']=infin\n",
    "costs['New Orleans']=infin\n",
    "costs['Denver']=infin\n",
    "costs['St Louis']=infin\n",
    "costs['OKC']=infin\n",
    "costs['Dallas']=infin\n",
    "costs['SLC']=infin\n",
    "costs['Albuquerque']=infin\n",
    "costs['Phoenix']=infin\n",
    "costs['Las Vegas']=infin\n",
    "costs['San Diego']=infin\n",
    "costs['Los Angeles']=infin\n",
    "\n",
    "print(costs)"
   ]
  },
  {
   "cell_type": "markdown",
   "metadata": {},
   "source": [
    "## Set up the parents table\n",
    "This table is what the algorithm references to ensure that the proper sequencing is maintained"
   ]
  },
  {
   "cell_type": "code",
   "execution_count": 4,
   "metadata": {},
   "outputs": [
    {
     "name": "stdout",
     "output_type": "stream",
     "text": [
      "{'DC': ['NYC'], 'Indianapolis': ['NYC'], 'Pittsburg': ['NYC'], 'Atlanta': ['DC'], 'Kansas City': ['Indianapolis'], 'Cincinnati': ['Pittsburg'], 'New Orleans': ['Atlanta'], 'Denver': ['Kansas City'], 'St Louis': ['Cincinnati'], 'OKC': ['St Louis'], 'Dallas': ['New Orleans'], 'SLC': ['Denver'], 'Albuquerque': ['OKC', 'Dallas'], 'Phoenix': ['Albuquerque'], 'Las Vegas': ['SLC', 'Phoenix'], 'San Diego': ['Las Vegas', 'Phoenix'], 'Los Angeles': None}\n"
     ]
    }
   ],
   "source": [
    "parents = {}\n",
    "\n",
    "parents['DC'] = ['NYC']\n",
    "parents['Indianapolis'] = ['NYC']\n",
    "parents['Pittsburg'] = ['NYC']\n",
    "parents['Atlanta'] = ['DC']\n",
    "parents['Kansas City'] = ['Indianapolis']   \n",
    "parents['Cincinnati'] = ['Pittsburg']\n",
    "parents['New Orleans'] = ['Atlanta']\n",
    "parents['Denver'] = ['Kansas City'] \n",
    "parents['St Louis'] = ['Cincinnati']\n",
    "parents['OKC'] = ['St Louis']\n",
    "parents['Dallas'] = ['New Orleans']\n",
    "parents['SLC'] = ['Denver']\n",
    "parents['Albuquerque'] = ['OKC', 'Dallas']\n",
    "parents['Phoenix'] = ['Albuquerque'] \n",
    "parents['Las Vegas'] = ['SLC', 'Phoenix'] \n",
    "parents['San Diego'] = ['Las Vegas', 'Phoenix'] \n",
    "parents['Los Angeles'] = None\n",
    "\n",
    "print(parents)"
   ]
  },
  {
   "cell_type": "markdown",
   "metadata": {},
   "source": [
    "## Draw the graph\n",
    "Use networkx to draw the graph.\n",
    "Note, adding the weights to the edges has been a total chore.\n",
    "\n",
    "Future enchancment is to figure out how to do that."
   ]
  },
  {
   "cell_type": "code",
   "execution_count": 5,
   "metadata": {
    "scrolled": false
   },
   "outputs": [
    {
     "data": {
      "text/plain": [
       "<Figure size 864x864 with 0 Axes>"
      ]
     },
     "execution_count": 5,
     "metadata": {},
     "output_type": "execute_result"
    },
    {
     "data": {
      "image/png": "[encoded data removed]",
      "text/plain": [
       "<Figure size 864x864 with 1 Axes>"
      ]
     },
     "metadata": {},
     "output_type": "display_data"
    }
   ],
   "source": [
    "# Initialize Graph\n",
    "G = nx.DiGraph(graph)\n",
    "\n",
    "# Plot is too tiny without setting explicit parameters\n",
    "plt.figure(3,figsize=(12,12)) \n",
    "\n",
    "# Draw graph\n",
    "nx.draw(G,with_labels = True,\n",
    "        node_size=2000, font_size=20)\n",
    "\n",
    "# Save a copy of the figure to view larger in another tool\n",
    "plt.savefig(\"travel1.png\")"
   ]
  },
  {
   "cell_type": "markdown",
   "metadata": {},
   "source": [
    "# Select the Search Algorithm\n",
    "\n",
    "**dijkstra's algorithm** is a graphing algorithm that searches for the shortest distance (considering weighting of the edges) between two nodes in a graph model.  The application is based on code that was sourced from *Grokking Algorithms*.  Dijkdtra'd algorithm operates in O(|V|^2) time where V is verticies and E is edges.  \n",
    "\n",
    "Dijkstra's algorithm works by selecting the node that is closest to the start, it updates the costs for its neighbors, it then updates the parents cost based on the neighbors costs being updated, and then marks it as processed.\n",
    "\n",
    "Note: a list of all checked items is required to prevent relationships that have the ability to be reversed from causing an infinite loop.\n",
    "\n",
    "Adapted from https://github.com/egonSchiele/grokking_algorithms/blob/master/07_dijkstras_algorithm/python/01_dijkstras_algorithm.py"
   ]
  },
  {
   "cell_type": "code",
   "execution_count": 6,
   "metadata": {},
   "outputs": [
    {
     "name": "stdout",
     "output_type": "stream",
     "text": [
      "Cost from the start to each node:\n",
      "{'DC': 2, 'Indianapolis': 11, 'Pittsburg': 7, 'Atlanta': 4, 'Kansas City': 19, 'Cincinnati': 13, 'New Orleans': 6, 'Denver': 26, 'St Louis': 21, 'OKC': 28, 'Dallas': 8, 'SLC': 32, 'Albuquerque': 10, 'Phoenix': 12, 'Las Vegas': 14, 'San Diego': 16, 'Los Angeles': 18}\n"
     ]
    }
   ],
   "source": [
    "processed = []\n",
    "\n",
    "def find_lowest_cost_node(costs):\n",
    "    lowest_cost = float(\"inf\")\n",
    "    lowest_cost_node = None\n",
    "    # Go through each node.\n",
    "    for node in costs:\n",
    "        cost = costs[node]\n",
    "        # If it's the lowest cost so far and hasn't been processed yet...\n",
    "        if cost < lowest_cost and node not in processed:\n",
    "            # ... set it as the new lowest-cost node.\n",
    "            lowest_cost = cost\n",
    "            lowest_cost_node = node\n",
    "    return lowest_cost_node\n",
    "\n",
    "# Find the lowest-cost node that you haven't processed yet.\n",
    "node = find_lowest_cost_node(costs)\n",
    "# If you've processed all the nodes, this while loop is done.\n",
    "while node is not None:\n",
    "    cost = costs[node]\n",
    "    # Go through all the neighbors of this node.\n",
    "    neighbors = graph[node]\n",
    "    for n in neighbors.keys():\n",
    "        new_cost = cost + neighbors[n]\n",
    "        # If it's cheaper to get to this neighbor by going through this node...\n",
    "        if costs[n] > new_cost:\n",
    "            # ... update the cost for this node.\n",
    "            costs[n] = new_cost\n",
    "            # This node becomes the new parent for this neighbor.\n",
    "            parents[n] = node\n",
    "    # Mark the node as processed.\n",
    "    processed.append(node)\n",
    "    # Find the next node to process, and loop.\n",
    "    node = find_lowest_cost_node(costs)\n",
    "\n",
    "print(\"Cost from the start to each node:\")\n",
    "print(costs)"
   ]
  },
  {
   "cell_type": "markdown",
   "metadata": {},
   "source": [
    "The quickest route from NYC to LA takes 18 units (hours?) drive.\n",
    "The path is:\n",
    "\n",
    "**NYC -> DC -> Atlanta -> New Orleans -> Dallas -> Albuquerque -> Phoenix -> Las Vegas -> San Diego -> Los Angeles.**\n",
    "\n",
    "There are 9 hops to get to LA in this algorithm.\n",
    "The edges from each node cost two hours for a total of 18."
   ]
  },
  {
   "cell_type": "markdown",
   "metadata": {},
   "source": [
    "**Breadth-first search** is a graphing algorithm that searches for the shortest distance (hops/unweighted path) between two nodes in a graph model.  The application is based on code that was sourced from *Grokking Algorithms*.  Breadth-first search operates in O(V+E) time wherev is verticies and E is edges.  \n",
    "\n",
    "The breadth-first search operates by checking first each node in the first degree relationship, if there is not match in that degree, it then enqueues the nodes second degree relationship and so on, until the relationships and queue has been exhasuted.   \n",
    "\n",
    "Note: a list of all checked items is required to prevent relationships that have the ability to be reversed from causing an infinite loop.\n",
    "\n",
    "Adapted from: https://github.com/egonSchiele/grokking_algorithms/blob/master/06_breadth-first_search/python/01_breadth-first_search.py"
   ]
  },
  {
   "cell_type": "code",
   "execution_count": 7,
   "metadata": {},
   "outputs": [],
   "source": [
    "def search(name):\n",
    "    search_queue = deque()\n",
    "    search_queue += graph[\"NYC\"]\n",
    "    # This array is how you keep track of which people you've searched before.\n",
    "    searched = []\n",
    "    while search_queue:\n",
    "        person = search_queue.popleft()\n",
    "        # Only search this person if you haven't already searched them.\n",
    "        if person not in searched:\n",
    "            if person == name:\n",
    "                \n",
    "                return (True, searched)\n",
    "            else:\n",
    "                search_queue += graph[person]\n",
    "                # Marks this person as searched\n",
    "                searched.append(person)\n",
    "    return (False, searched)"
   ]
  },
  {
   "cell_type": "code",
   "execution_count": 8,
   "metadata": {},
   "outputs": [
    {
     "data": {
      "text/plain": [
       "(True,\n",
       " ['Indianapolis',\n",
       "  'Pittsburg',\n",
       "  'DC',\n",
       "  'Kansas City',\n",
       "  'Cincinnati',\n",
       "  'Atlanta',\n",
       "  'Denver',\n",
       "  'St Louis',\n",
       "  'New Orleans',\n",
       "  'SLC',\n",
       "  'OKC',\n",
       "  'Dallas',\n",
       "  'Las Vegas',\n",
       "  'Albuquerque',\n",
       "  'San Diego'])"
      ]
     },
     "execution_count": 8,
     "metadata": {},
     "output_type": "execute_result"
    }
   ],
   "source": [
    "search('Los Angeles')"
   ]
  },
  {
   "cell_type": "markdown",
   "metadata": {},
   "source": [
    "As expected, the algorithm got us here in fewer hops, but since it does not consider the weights, the total time will be much higher.\n",
    "\n",
    "**NYC -> Indianapolis -> Kansas City -> Denver -> SLC -> Las Vegas -> Los Angeles** \n",
    "\n",
    "The algorithm made only 6 hops to get to LA."
   ]
  },
  {
   "cell_type": "code",
   "execution_count": 9,
   "metadata": {},
   "outputs": [
    {
     "name": "stdout",
     "output_type": "stream",
     "text": [
      "Total time in on path is: 46\n"
     ]
    }
   ],
   "source": [
    "# Weights of each node \n",
    "print('Total time in on path is:', 0 + 11 + 8 + 7 + 6 + 9 + 5)"
   ]
  },
  {
   "cell_type": "markdown",
   "metadata": {},
   "source": [
    "*Algorithms both worked as expected*"
   ]
  },
  {
   "cell_type": "markdown",
   "metadata": {},
   "source": [
    "# Run Trials \n",
    "Run trials and store the requested data for further analysis."
   ]
  },
  {
   "cell_type": "code",
   "execution_count": 10,
   "metadata": {},
   "outputs": [
    {
     "data": {
      "text/plain": [
       "(True,\n",
       " ['Indianapolis',\n",
       "  'Pittsburg',\n",
       "  'DC',\n",
       "  'Kansas City',\n",
       "  'Cincinnati',\n",
       "  'Atlanta',\n",
       "  'Denver',\n",
       "  'St Louis',\n",
       "  'New Orleans',\n",
       "  'SLC',\n",
       "  'OKC',\n",
       "  'Dallas',\n",
       "  'Las Vegas',\n",
       "  'Albuquerque',\n",
       "  'San Diego'])"
      ]
     },
     "execution_count": 10,
     "metadata": {},
     "output_type": "execute_result"
    }
   ],
   "source": [
    "#Assignment requirements ask for several values from each degree\n",
    "\n",
    "# Initialize empty lists\n",
    "fun_timer=list([])\n",
    "fun_degree=list([])\n",
    "fun_value=list([])\n",
    "\n",
    "#======================================================================\n",
    "# Breadth First Algorithm\n",
    "#======================================================================\n",
    "\n",
    "start = time.clock() # Timestamp start\n",
    "search('Los Angeles')\n",
    "end = time.clock() # Timestamp finish    \n",
    "fun_timer.append(round((end - start)*1000,6)) # Convert to milliseconds\n",
    "fun_degree.append('Breadth First')\n",
    "\n",
    "#======================================================================\n",
    "# Dijkstra's Algorithm\n",
    "#======================================================================\n",
    "\n",
    "start = time.clock() # Timestamp start\n",
    "node = find_lowest_cost_node(costs)\n",
    "# If you've processed all the nodes, this while loop is done.\n",
    "while node is not None:\n",
    "    cost = costs[node]\n",
    "    # Go through all the neighbors of this node.\n",
    "    neighbors = graph[node]\n",
    "    for n in neighbors.keys():\n",
    "        new_cost = cost + neighbors[n]\n",
    "        # If it's cheaper to get to this neighbor by going through this node...\n",
    "        if costs[n] > new_cost:\n",
    "            # ... update the cost for this node.\n",
    "            costs[n] = new_cost\n",
    "            # This node becomes the new parent for this neighbor.\n",
    "            parents[n] = node\n",
    "    # Mark the node as processed.\n",
    "    processed.append(node)\n",
    "    # Find the next node to process, and loop.\n",
    "    node = find_lowest_cost_node(costs)\n",
    "\n",
    "end = time.clock() # Timestamp finish    \n",
    "fun_timer.append(round((end - start)*1000,6)) # Convert to milliseconds\n",
    "fun_degree.append('Dijkstra')\n"
   ]
  },
  {
   "cell_type": "markdown",
   "metadata": {},
   "source": [
    "# Create Pandas Data Frame \n",
    "Pass the output data from the arrays and summarize in a pandas data frame for further analysis. "
   ]
  },
  {
   "cell_type": "code",
   "execution_count": 11,
   "metadata": {},
   "outputs": [
    {
     "data": {
      "text/html": [
       "<div>\n",
       "<style scoped>\n",
       "    .dataframe tbody tr th:only-of-type {\n",
       "        vertical-align: middle;\n",
       "    }\n",
       "\n",
       "    .dataframe tbody tr th {\n",
       "        vertical-align: top;\n",
       "    }\n",
       "\n",
       "    .dataframe thead th {\n",
       "        text-align: right;\n",
       "    }\n",
       "</style>\n",
       "<table border=\"1\" class=\"dataframe\">\n",
       "  <thead>\n",
       "    <tr style=\"text-align: right;\">\n",
       "      <th></th>\n",
       "      <th>degree</th>\n",
       "      <th>timer</th>\n",
       "    </tr>\n",
       "  </thead>\n",
       "  <tbody>\n",
       "    <tr>\n",
       "      <th>0</th>\n",
       "      <td>Breadth First</td>\n",
       "      <td>2.129451</td>\n",
       "    </tr>\n",
       "    <tr>\n",
       "      <th>1</th>\n",
       "      <td>Dijkstra</td>\n",
       "      <td>0.195879</td>\n",
       "    </tr>\n",
       "  </tbody>\n",
       "</table>\n",
       "</div>"
      ],
      "text/plain": [
       "          degree     timer\n",
       "0  Breadth First  2.129451\n",
       "1       Dijkstra  0.195879"
      ]
     },
     "execution_count": 11,
     "metadata": {},
     "output_type": "execute_result"
    }
   ],
   "source": [
    "# Store the performance outputs for analysis\n",
    "df = pd.DataFrame({'degree': fun_degree,\n",
    "                   'timer': fun_timer\n",
    "                    })\n",
    "\n",
    "# View the output dataframe\n",
    "df"
   ]
  },
  {
   "cell_type": "markdown",
   "metadata": {},
   "source": [
    "# Visualize Results"
   ]
  },
  {
   "cell_type": "code",
   "execution_count": 12,
   "metadata": {},
   "outputs": [
    {
     "data": {
      "text/plain": [
       "<BarContainer object of 2 artists>"
      ]
     },
     "execution_count": 12,
     "metadata": {},
     "output_type": "execute_result"
    },
    {
     "data": {
      "text/plain": [
       "([<matplotlib.axis.XTick at 0x128159d9630>,\n",
       "  <matplotlib.axis.XTick at 0x128159d1f60>],\n",
       " <a list of 2 Text xticklabel objects>)"
      ]
     },
     "execution_count": 12,
     "metadata": {},
     "output_type": "execute_result"
    },
    {
     "data": {
      "text/plain": [
       "Text(0, 0.5, 'Milliseconds')"
      ]
     },
     "execution_count": 12,
     "metadata": {},
     "output_type": "execute_result"
    },
    {
     "data": {
      "text/plain": [
       "Text(0.5, 1.0, 'Time to search')"
      ]
     },
     "execution_count": 12,
     "metadata": {},
     "output_type": "execute_result"
    },
    {
     "data": {
      "image/png": "[encoded data removed]",
      "text/plain": [
       "<Figure size 432x288 with 1 Axes>"
      ]
     },
     "metadata": {
      "needs_background": "light"
     },
     "output_type": "display_data"
    }
   ],
   "source": [
    "objects = df['degree']\n",
    "y_pos = np.arange(len(objects))\n",
    "performance = df['timer']\n",
    " \n",
    "plt.bar(y_pos, performance, align='center', alpha=0.5)\n",
    "plt.xticks(y_pos, objects)\n",
    "plt.ylabel('Milliseconds')\n",
    "plt.title('Time to search')\n",
    " \n",
    "plt.show()"
   ]
  },
  {
   "cell_type": "markdown",
   "metadata": {},
   "source": [
    "The graphics above are what was created for all tests performed as part of this assigment.  \n",
    "The algorithm operates extremely quickly and hardly takes any time to run.\n",
    "\n",
    "**Breadth first took significantly more time to run than Dijkstra**\n",
    "\n",
    "Data engineers are required to consider how to ensure that an operation can perform effectively at scale.  This exercise helps to reinforce the value of measuring and testing algorithms as they scale."
   ]
  }
 ],
 "metadata": {
  "kernelspec": {
   "display_name": "Python 3",
   "language": "python",
   "name": "python3"
  },
  "language_info": {
   "codemirror_mode": {
    "name": "ipython",
    "version": 3
   },
   "file_extension": ".py",
   "mimetype": "text/x-python",
   "name": "python",
   "nbconvert_exporter": "python",
   "pygments_lexer": "ipython3",
   "version": "3.6.7"
  }
 },
 "nbformat": 4,
 "nbformat_minor": 2
}
