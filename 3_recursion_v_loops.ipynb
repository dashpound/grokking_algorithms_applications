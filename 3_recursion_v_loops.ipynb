{
 "cells": [
  {
   "cell_type": "markdown",
   "metadata": {},
   "source": [
    "# Recursion vs Loops  \n",
    "## MSDS-432 - Kiley - Week 3 Assignment\n",
    "### Assignment Overview\n",
    "The mini-programming assignment requires us to implement and test the performance of a recursive factorial algorithm manually applied in Python.\n",
    "\n",
    "The algorithm's performance will be measured using Big O notation. <br>\n",
    "**Big O Notation** is a way to communicate the number of operations required to perform an algorithm in the worst-case scenario.  The number of operations is represented by n.\n",
    "\n",
    "For both recursive and loop factorial algorithms, the worst-case scenario is also the best case scenario, where the the algorithm must be applied n times as it works through n! .  This requires that the algorithm operate in O(n) time.\n",
    "\n",
    "This assignment is git controlled.  The repo was prepared using git bash.\n",
    "\n",
    "# Setting up working environment, define and test key functions\n",
    "The packages selected in \"In[1]\" are all the packages required for the subsequent operations. <br>\n",
    "They are named based on standard python naming conventions."
   ]
  },
  {
   "cell_type": "code",
   "execution_count": 1,
   "metadata": {},
   "outputs": [],
   "source": [
    "# Set up working environment\n",
    "import numpy as np\n",
    "import time\n",
    "import pandas as pd\n",
    "import matplotlib.pyplot as plt"
   ]
  },
  {
   "cell_type": "markdown",
   "metadata": {},
   "source": [
    "**fact** function leverages code from *Grokking Algorithms*; the code was sourced from github.\n",
    "https://github.com/egonSchiele/grokking_algorithms/blob/master/03_recursion/python/03_factorial.py\n",
    "\n",
    "\n",
    "We will define it as a function so that it may be applied to multiple trials consistently and quickly."
   ]
  },
  {
   "cell_type": "code",
   "execution_count": 2,
   "metadata": {},
   "outputs": [],
   "source": [
    "# Recursively define factorial\n",
    "def fact(x):\n",
    "  if x == 1:\n",
    "    return 1\n",
    "  else:\n",
    "    return x * fact(x-1)"
   ]
  },
  {
   "cell_type": "markdown",
   "metadata": {},
   "source": [
    "**loop_fact** function leverages code from *the crazy programer*; the code was adapted from the link below.\n",
    "\n",
    "https://www.thecrazyprogrammer.com/2017/04/python-program-find-factorial-number-using-loop.html\n",
    "\n",
    "\n",
    "We will define it as a function so that it may be applied to multiple trials consistently and quickly."
   ]
  },
  {
   "cell_type": "code",
   "execution_count": 4,
   "metadata": {},
   "outputs": [],
   "source": [
    "# Python program to find the factorial of a number provided by the user.num=6\n",
    "def loop_fact(num):\n",
    "    fac = 1\n",
    "    for i in range(1, num + 1):\n",
    "        fac = fac * i\n",
    "    return fac"
   ]
  },
  {
   "cell_type": "code",
   "execution_count": 5,
   "metadata": {},
   "outputs": [
    {
     "name": "stdout",
     "output_type": "stream",
     "text": [
      "The results for the recursive method are: 120\n",
      "The results for the loop method are: 120\n",
      "The results for the manual method are: 120\n"
     ]
    }
   ],
   "source": [
    "# Check that algorithm works\n",
    "print('The results for the recursive method are:', fact(5))\n",
    "print('The results for the loop method are:', loop_fact(5))\n",
    "print('The results for the manual method are:', 5*4*3*2*1)"
   ]
  },
  {
   "cell_type": "markdown",
   "metadata": {},
   "source": [
    "**Results of the test: The algorithms works as expected.** <br>"
   ]
  },
  {
   "cell_type": "markdown",
   "metadata": {},
   "source": [
    "The assignment has asked that the algorithms be tested at various values of random numbers between 100 & 500.  \n",
    "To ensure that the same tests are performed on each data set, a function will be generated to capture the requested tests. \n",
    "\n",
    "The requested output are:\n",
    "* The number being factorized\n",
    "* The output of the factorization\n",
    "* Time (in milliseconds) to run\n",
    "\n",
    "**Note** The factorized value for these requested numbers is too large to be stored in a numpy array.  Becuase of this the resulting output is 0.\n",
    "\n",
    "These output will be put into a pandas dataframe called \"df\". "
   ]
  },
  {
   "cell_type": "markdown",
   "metadata": {},
   "source": [
    "# Generate And Test Random Data \n",
    "The random seed generator provided in the project requirements returned the value 922.<br>\n",
    "Leveraging a seed as such creates reproducable work.<br>\n",
    "That seed has been set below.\n",
    "\n",
    "Per the requirements, using a random number generator with a uniform probabilty of each value occuring generating a single array of a length of 10.  The values are to be between 100 & 500. \n",
    "\n",
    "Randomly generated values will be rounded to the nearest whole number to be properly factorialed.\n"
   ]
  },
  {
   "cell_type": "code",
   "execution_count": 6,
   "metadata": {},
   "outputs": [
    {
     "name": "stdout",
     "output_type": "stream",
     "text": [
      "The array's values are:  [319, 462, 188, 380, 294, 100, 240, 464, 482, 464]\n",
      "The array's length is:  10\n",
      "The max value in the array is:  482\n",
      "The min value in the array is:  100\n"
     ]
    }
   ],
   "source": [
    "# Set Random Seeds\n",
    "SEED = np.random.seed(922)\n",
    "\n",
    "# Create array 1\n",
    "a1 = list(np.random.randint(100,500,10))\n",
    "\n",
    "print(\"The array's values are: \", a1)\n",
    "print(\"The array's length is: \", len(a1))\n",
    "print(\"The max value in the array is: \", np.max(a1))\n",
    "print(\"The min value in the array is: \", np.min(a1))"
   ]
  },
  {
   "cell_type": "code",
   "execution_count": 7,
   "metadata": {},
   "outputs": [
    {
     "name": "stdout",
     "output_type": "stream",
     "text": [
      "The array's values are:  [1, 2, 3, 4, 5, 6, 7, 8, 9, 10]\n",
      "The array's length is:  10\n",
      "The max value in the array is:  10\n",
      "The min value in the array is:  1\n"
     ]
    }
   ],
   "source": [
    "# Create array 2, basic array to test function\n",
    "a2 = [1,2,3,4,5,6,7,8,9,10]\n",
    "\n",
    "print(\"The array's values are: \", a2)\n",
    "print(\"The array's length is: \", len(a2))\n",
    "print(\"The max value in the array is: \", np.max(a2))\n",
    "print(\"The min value in the array is: \", np.min(a2))"
   ]
  },
  {
   "cell_type": "markdown",
   "metadata": {},
   "source": [
    "Here we define a function to perform the test for both versions of the algorithm.\n",
    "\n",
    "This ensures that we get consistent output and can quickly iterate through the trials."
   ]
  },
  {
   "cell_type": "code",
   "execution_count": 8,
   "metadata": {},
   "outputs": [],
   "source": [
    "def run_trial(method, sel_array):\n",
    "    # Create an empty list to store results\n",
    "    fun_results=list([])\n",
    "\n",
    "    # Create an empty list to store timer results\n",
    "    fun_timer=list([])\n",
    "\n",
    "    # Select array to run through the loop\n",
    "    array=sel_array\n",
    "\n",
    "    # Loop to run through the array and perform recursive factorial\n",
    "    # Appends results to results & timer lists\n",
    "\n",
    "    for x in array:\n",
    "        start = time.clock()\n",
    "        fun_results.append(method(x))\n",
    "        end = time.clock()\n",
    "        fun_timer.append(round((end - start)*1000,6)) # Convert to milliseconds \n",
    "    \n",
    "    return fun_results, fun_timer"
   ]
  },
  {
   "cell_type": "markdown",
   "metadata": {},
   "source": [
    "\n",
    "# Run Trials and Create Pandas Data Frame\n",
    "\n",
    "Most of the work has been completed, this next step passes the generated data to the selected functions defined previously.  The arrays are then summarized into a pandas data frame for further analysis. "
   ]
  },
  {
   "cell_type": "code",
   "execution_count": 20,
   "metadata": {},
   "outputs": [
    {
     "name": "stderr",
     "output_type": "stream",
     "text": [
      "C:\\Anaconda\\lib\\site-packages\\ipykernel_launcher.py:6: RuntimeWarning: overflow encountered in long_scalars\n",
      "  \n"
     ]
    }
   ],
   "source": [
    "# Run with Recurive Function\n",
    "results = run_trial(fact, a1)[0]\n",
    "timer = run_trial(fact, a1)[1]"
   ]
  },
  {
   "cell_type": "code",
   "execution_count": 22,
   "metadata": {},
   "outputs": [],
   "source": [
    "# Run with Loop Function\n",
    "results2 = run_trial(loop_fact, a1)[0]\n",
    "timer2 = run_trial(loop_fact, a1)[1]"
   ]
  },
  {
   "cell_type": "code",
   "execution_count": 23,
   "metadata": {},
   "outputs": [
    {
     "name": "stdout",
     "output_type": "stream",
     "text": [
      "   number  factorial  recursive_timer  loop_timer\n",
      "0     319          0         0.371393    0.064000\n",
      "1     462          0         0.525575    0.095515\n",
      "2     188          0         0.230303    0.025212\n",
      "3     380          0         0.550787    0.068364\n",
      "4     294          0         0.337454    0.046545\n",
      "5     100          0         0.172121    0.011151\n",
      "6     240          0         0.288484    0.033939\n",
      "7     464          0         0.501817    0.093576\n",
      "8     482          0         0.616242    0.100363\n",
      "9     464          0         0.499878    0.094545\n"
     ]
    }
   ],
   "source": [
    "# Create pandas dataframe of trials\n",
    "df = pd.DataFrame({'number':a1,'factorial':results,\n",
    "                   'recursive_timer':timer, 'loop_timer':timer2})\n",
    "\n",
    "# Print pandas dataframe of trials\n",
    "print(df)"
   ]
  },
  {
   "cell_type": "markdown",
   "metadata": {},
   "source": [
    "The resulting data frame produces results that are consistent with our expectations.\n",
    "\n",
    "**Note: Once again the factorial output is too large to be stored in a numpy array and shows up at 0, using a2, the testing array, the correct values are generated in the output**\n",
    "\n",
    "# Visualize Results"
   ]
  },
  {
   "cell_type": "code",
   "execution_count": 28,
   "metadata": {},
   "outputs": [
    {
     "data": {
      "image/png": "[encoded data removed]",
      "text/plain": [
       "<Figure size 432x288 with 1 Axes>"
      ]
     },
     "metadata": {
      "needs_background": "light"
     },
     "output_type": "display_data"
    }
   ],
   "source": [
    "# Create plot of time versus complexity of array\n",
    "plt.plot(df['number'], df['recursive_timer'], 'bo')\n",
    "plt.plot(df['number'], df['loop_timer'], 'ro')\n",
    "\n",
    "# Label Graph\n",
    "plt.ylabel('Time in Milliseconds')\n",
    "plt.xlabel('Number to factorial')\n",
    "plt.title('Recursion vs. Loop Processing Time')\n",
    "\n",
    "#Create Legend and define axes\n",
    "plt.legend()\n",
    "plt.axis([0, 550, -1, 2])\n",
    "plt.show()"
   ]
  },
  {
   "cell_type": "markdown",
   "metadata": {},
   "source": [
    "The resulting graphic for all tests performed as part of this assigment.  \n",
    "The algorithm operates extremely quickly and hardly takes any time to run.\n",
    "\n",
    "**Recursion does appear to be slower than the loop timer, which is consistent with expectations.**\n",
    "\n",
    "Data engineers are required to consider how to ensure that an operation can perform effectively at scale.  This exercise helps to reinforce the value of measuring and testing algorithms as they scale."
   ]
  }
 ],
 "metadata": {
  "kernelspec": {
   "display_name": "Python 3",
   "language": "python",
   "name": "python3"
  },
  "language_info": {
   "codemirror_mode": {
    "name": "ipython",
    "version": 3
   },
   "file_extension": ".py",
   "mimetype": "text/x-python",
   "name": "python",
   "nbconvert_exporter": "python",
   "pygments_lexer": "ipython3",
   "version": "3.6.7"
  }
 },
 "nbformat": 4,
 "nbformat_minor": 2
}
